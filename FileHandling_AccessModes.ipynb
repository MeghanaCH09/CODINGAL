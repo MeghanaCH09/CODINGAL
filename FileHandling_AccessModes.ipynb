{
  "nbformat": 4,
  "nbformat_minor": 0,
  "metadata": {
    "colab": {
      "provenance": [],
      "authorship_tag": "ABX9TyMMqAO1g2Oj2bcFU2alFc8A",
      "include_colab_link": true
    },
    "kernelspec": {
      "name": "python3",
      "display_name": "Python 3"
    },
    "language_info": {
      "name": "python"
    }
  },
  "cells": [
    {
      "cell_type": "markdown",
      "metadata": {
        "id": "view-in-github",
        "colab_type": "text"
      },
      "source": [
        "<a href=\"https://colab.research.google.com/github/MeghanaCH09/CODINGAL/blob/main/FileHandling_AccessModes.ipynb\" target=\"_parent\"><img src=\"https://colab.research.google.com/assets/colab-badge.svg\" alt=\"Open In Colab\"/></a>"
      ]
    },
    {
      "cell_type": "code",
      "execution_count": null,
      "metadata": {
        "colab": {
          "base_uri": "https://localhost:8080/"
        },
        "id": "roN5yyRjecSh",
        "outputId": "dc0d7cba-9c38-4c2a-fd1f-c5a1a05a166a"
      },
      "outputs": [
        {
          "output_type": "stream",
          "name": "stdout",
          "text": [
            "\n",
            "Options:\n",
            "1. Read student introductions\n",
            "2. Add a new student (overwrite existing data)\n",
            "3. Append a new student (keep existing data)\n",
            "4. Exit\n"
          ]
        }
      ],
      "source": [
        "filename = \"students.txt\"\n",
        "\n",
        "def read_students():\n",
        "    try:\n",
        "        with open(filename, 'r') as file:\n",
        "            print(\"Current Student Introductions:\\n\")\n",
        "            for line in file:\n",
        "                print(line.strip())\n",
        "    except FileNotFoundError:\n",
        "        print(\"No student records found. Please add some students first.\")\n",
        "\n",
        "def write_student(name, favorite_subject):\n",
        "    \"\"\"Write a new student's introduction to the file, overwriting existing content.\"\"\"\n",
        "    with open(filename, 'w') as file:\n",
        "        file.write(f\"Name: {name}, Favorite Subject: {favorite_subject}\\n\")\n",
        "    print(f\"Added new student: {name} with favorite subject {favorite_subject}\")\n",
        "\n",
        "def append_student(name, favorite_subject):\n",
        "    \"\"\"Append a new student's introduction to the existing file.\"\"\"\n",
        "    with open(filename, 'a') as file:\n",
        "        file.write(f\"Name: {name}, Favorite Subject: {favorite_subject}\\n\")\n",
        "    print(f\"Appended student: {name} with favorite subject {favorite_subject}\")\n",
        "\n",
        "def main():\n",
        "    while True:\n",
        "        print(\"\\nOptions:\")\n",
        "        print(\"1. Read student introductions\")\n",
        "        print(\"2. Add a new student (overwrite existing data)\")\n",
        "        print(\"3. Append a new student (keep existing data)\")\n",
        "        print(\"4. Exit\")\n",
        "\n",
        "\n",
        "        choice = input(\"Choose an option (1-4): \")\n",
        "\n",
        "        if choice == '1':\n",
        "            read_students()\n",
        "        elif choice == '2':\n",
        "            name = input(\"Enter student's name: \")\n",
        "            favorite_subject = input(\"Enter student's favorite subject: \")\n",
        "            write_student(name, favorite_subject)\n",
        "        elif choice == '3':\n",
        "            name = input(\"Enter student's name: \")\n",
        "            favorite_subject = input(\"Enter student's favorite subject: \")\n",
        "            append_student(name, favorite_subject)\n",
        "        elif choice == '4':\n",
        "            print(\"Exiting the program.\")\n",
        "            break\n",
        "        else:\n",
        "            print(\"Invalid option. Please choose again.\")\n",
        "\n",
        "if __name__ == \"__main__\":\n",
        "    main()"
      ]
    },
    {
      "cell_type": "code",
      "source": [],
      "metadata": {
        "id": "F5BccvUueyup"
      },
      "execution_count": null,
      "outputs": []
    },
    {
      "cell_type": "markdown",
      "source": [],
      "metadata": {
        "id": "lTG4Y_Kyegx-"
      }
    }
  ]
}